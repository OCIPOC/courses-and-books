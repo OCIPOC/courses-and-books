{
 "cells": [
  {
   "cell_type": "markdown",
   "source": [
    "# Coin Change\n",
    "You are given an integer array coins representing coins of different denominations and an integer amount representing a total amount of money.\n",
    "Return the fewest number of coins that you need to make up that amount. If that amount of money cannot be made up by any combination of the coins, return -1.\n",
    "You may assume that you have an infinite number of each kind of coin.\n",
    "\n",
    "### Example 1:\n",
    "- Input: coins = [1,2,5], amount = 11\n",
    "- Output: 3\n",
    "- Explanation: 11 = 5 + 5 + 1\n",
    "\n",
    "### Example 2:\n",
    "- Input: coins = [2], amount = 3\n",
    "- Output: -1\n",
    "\n",
    "### Example 3:\n",
    "Input: coins = [1], amount = 0\n",
    "Output: 0\n",
    "\n",
    "### Constraints:\n",
    "- 1 <= coins.length <= 12\n",
    "- 1 <= coins[i] <= 2^31 - 1\n",
    "- 0 <= amount <= 10^4"
   ],
   "metadata": {}
  }
 ],
 "metadata": {
  "orig_nbformat": 4,
  "language_info": {
   "name": "python"
  }
 },
 "nbformat": 4,
 "nbformat_minor": 2
}