{
 "cells": [
  {
   "cell_type": "markdown",
   "source": [
    "# Maximum Product Subarray\n",
    "Given an integer array nums, find a contiguous non-empty subarray within the array that has the largest product, and return the product. The test cases are generated so that the answer will fit in a 32-bit integer.\n",
    "A subarray is a contiguous subsequence of the array.\n",
    "\n",
    "### Example 1:\n",
    "- Input: nums = [2,3,-2,4]\n",
    "- Output: 6\n",
    "- Explanation: [2,3] has the largest product 6.\n",
    "\n",
    "### Example 2:\n",
    "- Input: nums = [-2,0,-1]\n",
    "- Output: 0\n",
    "- Explanation: The result cannot be 2, because [-2,-1] is not a subarray.\n",
    "\n",
    "### Constraints:\n",
    "- 1 <= nums.length <= 2 * 10^4\n",
    "- -10 <= nums[i] <= 10\n",
    "- The product of any prefix or suffix of nums is guaranteed to fit in a 32-bit integer."
   ],
   "metadata": {}
  },
  {
   "cell_type": "code",
   "execution_count": 15,
   "source": [
    "'''\n",
    "IDEA 1: akka brute force.\n",
    "    For each subarray calculate product and return the max. Time Complexity of O(n^2)\n",
    "'''\n",
    "\n",
    "def max_prod(nums: list) -> list:\n",
    "    res = None\n",
    "    for i in range(len(nums)):\n",
    "        curr = 1\n",
    "        for j in range(i, len(nums)):\n",
    "            curr *= nums[j]\n",
    "            if res is None or curr > res:\n",
    "                res = curr\n",
    "    return res \n",
    "\n",
    "assert max_prod([-2,0,-1]) == 0\n",
    "assert max_prod([2,3,-2,4]) == 6\n",
    "\n"
   ],
   "outputs": [
    {
     "output_type": "stream",
     "name": "stdout",
     "text": [
      "None 2\n",
      "2 3\n",
      "6 -2\n",
      "6 4\n",
      "6 3\n",
      "6 -2\n",
      "6 4\n",
      "6 -2\n",
      "6 4\n",
      "6 4\n"
     ]
    }
   ],
   "metadata": {}
  }
 ],
 "metadata": {
  "orig_nbformat": 4,
  "language_info": {
   "name": "python",
   "version": "3.10.0",
   "mimetype": "text/x-python",
   "codemirror_mode": {
    "name": "ipython",
    "version": 3
   },
   "pygments_lexer": "ipython3",
   "nbconvert_exporter": "python",
   "file_extension": ".py"
  },
  "kernelspec": {
   "name": "python3",
   "display_name": "Python 3.10.0 64-bit"
  },
  "interpreter": {
   "hash": "aee8b7b246df8f9039afb4144a1f6fd8d2ca17a180786b69acc140d282b71a49"
  }
 },
 "nbformat": 4,
 "nbformat_minor": 2
}