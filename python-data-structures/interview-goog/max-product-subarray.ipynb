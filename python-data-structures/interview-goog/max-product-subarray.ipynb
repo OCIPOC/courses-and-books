{
 "cells": [
  {
   "cell_type": "markdown",
   "source": [
    "# Maximum Product Subarray\n",
    "Given an integer array nums, find a contiguous non-empty subarray within the array that has the largest product, and return the product. The test cases are generated so that the answer will fit in a 32-bit integer.\n",
    "A subarray is a contiguous subsequence of the array.\n",
    "\n",
    "### Example 1:\n",
    "- Input: nums = [2,3,-2,4]\n",
    "- Output: 6\n",
    "- Explanation: [2,3] has the largest product 6.\n",
    "\n",
    "### Example 2:\n",
    "- Input: nums = [-2,0,-1]\n",
    "- Output: 0\n",
    "- Explanation: The result cannot be 2, because [-2,-1] is not a subarray.\n",
    "\n",
    "### Constraints:\n",
    "- 1 <= nums.length <= 2 * 10^4\n",
    "- -10 <= nums[i] <= 10\n",
    "- The product of any prefix or suffix of nums is guaranteed to fit in a 32-bit integer."
   ],
   "metadata": {}
  },
  {
   "cell_type": "code",
   "execution_count": null,
   "source": [
    "'''\n",
    "IDEA1 aka brute force:\n",
    "    \n",
    "\n",
    "'''"
   ],
   "outputs": [],
   "metadata": {}
  }
 ],
 "metadata": {
  "orig_nbformat": 4,
  "language_info": {
   "name": "python",
   "version": "3.10.0"
  },
  "kernelspec": {
   "name": "python3",
   "display_name": "Python 3.10.0 64-bit"
  },
  "interpreter": {
   "hash": "aee8b7b246df8f9039afb4144a1f6fd8d2ca17a180786b69acc140d282b71a49"
  }
 },
 "nbformat": 4,
 "nbformat_minor": 2
}