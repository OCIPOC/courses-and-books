{
 "cells": [
  {
   "cell_type": "markdown",
   "source": [
    "# Algorithm Analysis  \n",
    "\n",
    "## Introduction\n",
    "We want to write fast and memory efficient software programs that solve engineering and bussines problems. But how we can measure the efficiency of the implementation? Let's say we have two programs A and B that compute a [Fibonacci Number](https://en.wikipedia.org/wiki/Fibonacci_number), and we want to compare A and B from the run-time performance perspective. Obviously, we can can gather experimental data by using the Python built-in time function:"
   ],
   "metadata": {}
  },
  {
   "cell_type": "code",
   "execution_count": 12,
   "source": [
    "from time import time, sleep\n",
    "start_time = time()                  \n",
    "# run algorithm\n",
    "end_time = time()                    \n",
    "elapsed = end_time - start_time    "
   ],
   "outputs": [],
   "metadata": {}
  },
  {
   "cell_type": "markdown",
   "source": [
    "The elapsed time is a decent representation but it is highly depended on the specific input, machine type, number of running processes, amount of free memory etc. We need a method to measure to implementation efficiency without being depended on specific hardware and input.\n",
    "\n",
    "\n",
    "##  Beyond Experimental Analysis\n",
    "First we define two terms - Data Structure and Algorithm. Simply put, a data structure is a way of organizing and accessing data in computer memory, and an algorithm is a step-by-step procedure for performing some task. To analyze the running time of an algorithm without performing experiments, we perform an analysis directly on a high-level description of the algorithm."
   ],
   "metadata": {}
  }
 ],
 "metadata": {
  "orig_nbformat": 4,
  "language_info": {
   "name": "python",
   "version": "3.10.0",
   "mimetype": "text/x-python",
   "codemirror_mode": {
    "name": "ipython",
    "version": 3
   },
   "pygments_lexer": "ipython3",
   "nbconvert_exporter": "python",
   "file_extension": ".py"
  },
  "kernelspec": {
   "name": "python3",
   "display_name": "Python 3.10.0 64-bit"
  },
  "interpreter": {
   "hash": "aee8b7b246df8f9039afb4144a1f6fd8d2ca17a180786b69acc140d282b71a49"
  }
 },
 "nbformat": 4,
 "nbformat_minor": 2
}