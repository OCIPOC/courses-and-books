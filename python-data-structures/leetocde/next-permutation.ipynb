{
 "cells": [
  {
   "cell_type": "markdown",
   "source": [
    "# Next Permutation\n",
    "Implement next permutation, which rearranges numbers into the lexicographically next greater permutation of numbers.\n",
    "If such an arrangement is impossible, it must rearrange it to the lowest possible order (i.e., sorted in ascending order).\n",
    "The replacement must be in place and use only constant extra memory.\n",
    "\n",
    "### Example 1:\n",
    "- Input: nums = [1,2,3]\n",
    "- Output: [1,3,2]\n",
    "\n",
    "### Example 2:\n",
    "- Input: nums = [3,2,1]\n",
    "- Output: [1,2,3]\n",
    "\n",
    "### Example 3:\n",
    "- Input: nums = [1,1,5]\n",
    "- Output: [1,5,1]\n",
    " \n",
    "### Constraints:\n",
    "- 1 <= nums.length <= 100\n",
    "- 0 <= nums[i] <= 100\n",
    "\n",
    "## Solution\n",
    "\n",
    "### Inuition\n",
    "In order to find the next greater permutation for the array [a1, a2, ..., an], we have to find the min number which is greater then the ak wher k E {1...n}. And thus the idea, is to move backwords on the input array and insert each item to the sorted array. Before inserting we can query if there elements in sorted array that are greater then the current element. If true, we will pick the smallest one and swap. and sort \n",
    "\n",
    "\n",
    "\n",
    "\n",
    "\n"
   ],
   "metadata": {}
  }
 ],
 "metadata": {
  "orig_nbformat": 4,
  "language_info": {
   "name": "python"
  }
 },
 "nbformat": 4,
 "nbformat_minor": 2
}