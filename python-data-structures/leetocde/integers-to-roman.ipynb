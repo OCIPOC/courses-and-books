{
 "cells": [
  {
   "cell_type": "markdown",
   "source": [
    "# Integer to Roman\n",
    "Roman numerals are represented by seven different symbols: I, V, X, L, C, D and M.\n",
    "\n",
    "Symbol       Value\n",
    "I             1\n",
    "V             5\n",
    "X             10\n",
    "L             50\n",
    "C             100\n",
    "D             500\n",
    "M             1000\n",
    "\n",
    "For example, 2 is written as II in Roman numeral, just two one's added together. 12 is written as XII, which is simply X + II. The number 27 is written as XXVII, which is XX + V + II.\n",
    "Roman numerals are usually written largest to smallest from left to right. However, the numeral for four is not IIII. Instead, the number four is written as IV. Because the one is before the five we subtract it making four. The same principle applies to the number nine, which is written as IX. There are six instances where subtraction is used:\n",
    "- I can be placed before V (5) and X (10) to make 4 and 9. \n",
    "- X can be placed before L (50) and C (100) to make 40 and 90. \n",
    "- C can be placed before D (500) and M (1000) to make 400 and 900.\n",
    "- Given an integer, convert it to a roman numeral.\n",
    "\n",
    "### Example 1:\n",
    "Input: num = 3  \n",
    "Output: \"III\"  \n",
    "\n",
    "### Example 2:\n",
    "Input: num = 4  \n",
    "Output: \"IV\"  \n",
    "\n",
    "### Example 3:\n",
    "Input: num = 9  \n",
    "Output: \"IX\"  \n",
    "\n",
    "### Example 4:\n",
    "Input: num = 58  \n",
    "Output: \"LVIII\"  \n",
    "Explanation: L = 50, V = 5, III = 3.  \n",
    "\n",
    "### Example 5:\n",
    "Input: num = 1994  \n",
    "Output: \"MCMXCIV\"  \n",
    "Explanation: M = 1000, CM = 900, XC = 90 and IV = 4  \n",
    "\n",
    "### Constraints:\n",
    "1 <= num <= 3999  \n",
    "\n",
    "## Solution\n",
    "\n",
    "### Intuition\n",
    "\n"
   ],
   "metadata": {}
  }
 ],
 "metadata": {
  "orig_nbformat": 4,
  "language_info": {
   "name": "python"
  }
 },
 "nbformat": 4,
 "nbformat_minor": 2
}