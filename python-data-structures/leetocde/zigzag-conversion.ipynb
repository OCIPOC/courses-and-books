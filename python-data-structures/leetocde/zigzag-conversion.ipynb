{
 "cells": [
  {
   "cell_type": "markdown",
   "source": [
    "# Zigzag Conversion\n",
    "The string \"PAYPALISHIRING\" is written in a zigzag pattern on a given number of rows like this: (you may want to display this pattern in a fixed font for better legibility) \n",
    "\n",
    "|   |   |   |   |   |   |   |\n",
    "|:-:|:-:|:-:|:-:|:-:|:-:|:-:|\n",
    "| P |   | A |   | H |   | N |\n",
    "| A | P | L | S | I | I | G |\n",
    "| Y |   | I |   | R |   |   |\n"
   ],
   "metadata": {}
  }
 ],
 "metadata": {
  "orig_nbformat": 4,
  "language_info": {
   "name": "python"
  }
 },
 "nbformat": 4,
 "nbformat_minor": 2
}