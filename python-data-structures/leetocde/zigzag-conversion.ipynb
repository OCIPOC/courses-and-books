{
 "cells": [
  {
   "cell_type": "markdown",
   "source": [
    "# Zigzag Conversion\n",
    "The string \"PAYPALISHIRING\" is written in a zigzag pattern on a given number of rows like this: (you may want to display this pattern in a fixed font for better legibility) \n",
    "\n",
    "|   |   |   |   |   |   |   |\n",
    "|:-:|:-:|:-:|:-:|:-:|:-:|:-:|\n",
    "| P |   | A |   | H |   | N |\n",
    "| A | P | L | S | I | I | G |\n",
    "| Y |   | I |   | R |   |   |\n",
    "\n",
    "And then read line by line: \"PAHNAPLSIIGYIR\"\n",
    "Write the code that will take a string and make this conversion given a number of rows:\n",
    "```Python\n",
    "def convert(s: str, num_rows: int)\n",
    "```\n",
    "### Example 1:\n",
    "Input: s = \"PAYPALISHIRING\", numRows = 3  \n",
    "Output: \"PAHNAPLSIIGYIR\"  \n",
    "\n",
    "### Example 2:\n",
    "Input: s = \"PAYPALISHIRING\", numRows = 4  \n",
    "Output: \"PINALSIGYAHRPI\"\n",
    "Explanation:\n",
    "\n",
    "### Example 3:\n",
    "Input: s = \"A\", numRows = 1  \n",
    "Output: \"A\"  \n",
    "\n",
    "### Constraints:\n",
    "- 1 <= s.length <= 1000\n",
    "- s consists of English letters (lower-case and upper-case), ',' and '.'.\n",
    "- 1 <= numRows <= 1000\n",
    "\n",
    "## Solution\n",
    "\n",
    "### Intuition\n",
    "Measure the length of the input string. Initializes target matrix with the given number of rows. For example in case of 3, res = [[], [], []].Fill columns by the chars from the input string by the following rules:\n",
    "- 1. First column has values in each row.\n",
    "- 2. If len(row) - 2 > 0 then construct with one element only in the rows r<sub>k</sub> where 0 < k < len(r) - 1\n",
    "- 3. Read res by rows.  \n"
   ],
   "metadata": {}
  },
  {
   "cell_type": "code",
   "execution_count": 32,
   "source": [
    "def add_full_column(res, s, index):\n",
    "    tmp = [] \n",
    "    for i in range(len(res)):\n",
    "        if i + index < len(s):\n",
    "            tmp.append(res[i] + [s[index + i]])\n",
    "        else:\n",
    "           tmp.append(res[i] + ['-']) \n",
    "    return tmp \n",
    "\n",
    "\n",
    "def add_single_value_column(res, s, index, i):\n",
    "    tmp = [row + ['-'] for row in res]\n",
    "    if index < len(s):\n",
    "        tmp[i][len(tmp[i]) - 1] = s[index]\n",
    "    return tmp \n",
    "\n",
    "\n",
    "def convert(s: str, num_rows: int):\n",
    "    index = 0\n",
    "    res = [[] for _ in range(num_rows)]\n",
    "    \n",
    "    while index < len(s):\n",
    "        res = add_full_column(res, s, index)    \n",
    "        index += num_rows\n",
    "\n",
    "        for i in reversed(range(1, num_rows - 1)):\n",
    "            res = add_single_value_column(res, s, index, i)\n",
    "            index +=1\n",
    "\n",
    "       \n",
    "    res = ''.join([''.join(x) for x in res])\n",
    "    return res.replace('-', '')\n",
    "\n",
    "\n",
    "assert convert('A', 1) == 'A'\n",
    "assert convert('PAYPALISHIRING', 3) == 'PAHNAPLSIIGYIR'  \n",
    "assert convert('PAYPALISHIRING', 4) == 'PINALSIGYAHRPI'  \n",
    "    "
   ],
   "outputs": [],
   "metadata": {}
  },
  {
   "cell_type": "markdown",
   "source": [
    "### Complexity Analysis\n",
    "- Time Complexity: O(n). We are looping through the inout string and perform constant number of operation in each loop\n",
    "- Space Complexity: O(n). We are allocatio O(n) space for the result matrix."
   ],
   "metadata": {}
  },
  {
   "cell_type": "code",
   "execution_count": 43,
   "source": [
    "def convert(s: str, num_rows: int):\n",
    "    counter = 0\n",
    "    res = [''] * num_rows\n",
    "    \n",
    "    state = 0\n",
    "    states = [-1] + list(range(1, num_rows - 1))\n",
    "\n",
    "   \n",
    "\n",
    "    \n",
    "    for c in s:\n",
    "        print(counter % num_rows, res, num_rows)\n",
    "        res[counter % num_rows] += c\n",
    "        counter += 1\n",
    "\n",
    "    return res\n",
    "\n",
    "print(convert('PAYPALISHIRING', 3))\n",
    "\n",
    "assert convert('A', 1) == 'A'\n",
    "assert convert('PAYPALISHIRING', 3) == 'PAHNAPLSIIGYIR'  \n",
    "assert convert('PAYPALISHIRING', 4) == 'PINALSIGYAHRPI'"
   ],
   "outputs": [
    {
     "output_type": "stream",
     "name": "stdout",
     "text": [
      "[-1, 1]\n",
      "0 ['', '', ''] 3\n",
      "1 ['P', '', ''] 3\n",
      "2 ['P', 'A', ''] 3\n",
      "0 ['P', 'A', 'Y'] 3\n",
      "1 ['PP', 'A', 'Y'] 3\n",
      "2 ['PP', 'AA', 'Y'] 3\n",
      "0 ['PP', 'AA', 'YL'] 3\n",
      "1 ['PPI', 'AA', 'YL'] 3\n",
      "2 ['PPI', 'AAS', 'YL'] 3\n",
      "0 ['PPI', 'AAS', 'YLH'] 3\n",
      "1 ['PPII', 'AAS', 'YLH'] 3\n",
      "2 ['PPII', 'AASR', 'YLH'] 3\n",
      "0 ['PPII', 'AASR', 'YLHI'] 3\n",
      "1 ['PPIIN', 'AASR', 'YLHI'] 3\n",
      "['PPIIN', 'AASRG', 'YLHI']\n",
      "[-1]\n",
      "0 [''] 1\n"
     ]
    },
    {
     "output_type": "error",
     "ename": "AssertionError",
     "evalue": "",
     "traceback": [
      "\u001b[0;31m---------------------------------------------------------------------------\u001b[0m",
      "\u001b[0;31mAssertionError\u001b[0m                            Traceback (most recent call last)",
      "\u001b[0;32m/var/folders/br/hzvrvh5s3md8fzgyk_xvdh1w0000gq/T/ipykernel_47989/3931095677.py\u001b[0m in \u001b[0;36m<module>\u001b[0;34m\u001b[0m\n\u001b[1;32m     16\u001b[0m \u001b[0mprint\u001b[0m\u001b[0;34m(\u001b[0m\u001b[0mconvert\u001b[0m\u001b[0;34m(\u001b[0m\u001b[0;34m'PAYPALISHIRING'\u001b[0m\u001b[0;34m,\u001b[0m \u001b[0;36m3\u001b[0m\u001b[0;34m)\u001b[0m\u001b[0;34m)\u001b[0m\u001b[0;34m\u001b[0m\u001b[0;34m\u001b[0m\u001b[0m\n\u001b[1;32m     17\u001b[0m \u001b[0;34m\u001b[0m\u001b[0m\n\u001b[0;32m---> 18\u001b[0;31m \u001b[0;32massert\u001b[0m \u001b[0mconvert\u001b[0m\u001b[0;34m(\u001b[0m\u001b[0;34m'A'\u001b[0m\u001b[0;34m,\u001b[0m \u001b[0;36m1\u001b[0m\u001b[0;34m)\u001b[0m \u001b[0;34m==\u001b[0m \u001b[0;34m'A'\u001b[0m\u001b[0;34m\u001b[0m\u001b[0;34m\u001b[0m\u001b[0m\n\u001b[0m\u001b[1;32m     19\u001b[0m \u001b[0;32massert\u001b[0m \u001b[0mconvert\u001b[0m\u001b[0;34m(\u001b[0m\u001b[0;34m'PAYPALISHIRING'\u001b[0m\u001b[0;34m,\u001b[0m \u001b[0;36m3\u001b[0m\u001b[0;34m)\u001b[0m \u001b[0;34m==\u001b[0m \u001b[0;34m'PAHNAPLSIIGYIR'\u001b[0m\u001b[0;34m\u001b[0m\u001b[0;34m\u001b[0m\u001b[0m\n\u001b[1;32m     20\u001b[0m \u001b[0;32massert\u001b[0m \u001b[0mconvert\u001b[0m\u001b[0;34m(\u001b[0m\u001b[0;34m'PAYPALISHIRING'\u001b[0m\u001b[0;34m,\u001b[0m \u001b[0;36m4\u001b[0m\u001b[0;34m)\u001b[0m \u001b[0;34m==\u001b[0m \u001b[0;34m'PINALSIGYAHRPI'\u001b[0m\u001b[0;34m\u001b[0m\u001b[0;34m\u001b[0m\u001b[0m\n",
      "\u001b[0;31mAssertionError\u001b[0m: "
     ]
    }
   ],
   "metadata": {}
  }
 ],
 "metadata": {
  "orig_nbformat": 4,
  "language_info": {
   "name": "python",
   "version": "3.10.0",
   "mimetype": "text/x-python",
   "codemirror_mode": {
    "name": "ipython",
    "version": 3
   },
   "pygments_lexer": "ipython3",
   "nbconvert_exporter": "python",
   "file_extension": ".py"
  },
  "kernelspec": {
   "name": "python3",
   "display_name": "Python 3.10.0 64-bit"
  },
  "interpreter": {
   "hash": "aee8b7b246df8f9039afb4144a1f6fd8d2ca17a180786b69acc140d282b71a49"
  }
 },
 "nbformat": 4,
 "nbformat_minor": 2
}