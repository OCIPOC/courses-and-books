{
 "cells": [
  {
   "cell_type": "markdown",
   "source": [
    "# Zigzag Conversion\n",
    "The string \"PAYPALISHIRING\" is written in a zigzag pattern on a given number of rows like this: (you may want to display this pattern in a fixed font for better legibility) \n",
    "\n",
    "|   |   |   |   |   |   |   |\n",
    "|:-:|:-:|:-:|:-:|:-:|:-:|:-:|\n",
    "| P |   | A |   | H |   | N |\n",
    "| A | P | L | S | I | I | G |\n",
    "| Y |   | I |   | R |   |   |\n",
    "\n",
    "And then read line by line: \"PAHNAPLSIIGYIR\"\n",
    "Write the code that will take a string and make this conversion given a number of rows:\n",
    "```Python\n",
    "def convert(s: str, num_rows: int)\n",
    "```\n",
    "### Example 1:\n",
    "Input: s = \"PAYPALISHIRING\", numRows = 3  \n",
    "Output: \"PAHNAPLSIIGYIR\"  \n",
    "\n",
    "### Example 2:\n",
    "Input: s = \"PAYPALISHIRING\", numRows = 4  \n",
    "Output: \"PINALSIGYAHRPI\"\n",
    "Explanation:\n",
    "\n",
    "### Example 3:\n",
    "Input: s = \"A\", numRows = 1  \n",
    "Output: \"A\"  \n",
    "\n",
    "### Constraints:\n",
    "- 1 <= s.length <= 1000\n",
    "- s consists of English letters (lower-case and upper-case), ',' and '.'.\n",
    "- 1 <= numRows <= 1000\n",
    "\n",
    "## Solution\n"
   ],
   "metadata": {}
  }
 ],
 "metadata": {
  "orig_nbformat": 4,
  "language_info": {
   "name": "python"
  }
 },
 "nbformat": 4,
 "nbformat_minor": 2
}