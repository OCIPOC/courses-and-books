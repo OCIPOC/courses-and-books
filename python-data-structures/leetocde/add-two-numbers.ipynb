{
 "cells": [
  {
   "cell_type": "markdown",
   "source": [
    "# Add Two Numbers\n",
    "You are given two non-empty linked lists representing two non-negative integers. The digits are stored in reverse order, and each of their nodes contains a single digit. Add the two numbers and return the sum as a linked list.\n",
    "You may assume the two numbers do not contain any leading zero, except the number 0 itself.\n",
    "\n",
    "### Example 1:\n",
    "Input: l1 = [2,4,3], l2 = [5,6,4]  \n",
    "Output: [7,0,8]  \n",
    "Explanation: 342 + 465 = 807  \n",
    "\n",
    "### Example 2:  \n",
    "Input: l1 = [0], l2 = [0]  \n",
    "Output: [0]  \n",
    "\n",
    "### Example 3:\n",
    "Input: l1 = [9,9,9,9,9,9,9], l2 = [9,9,9,9]  \n",
    "Output: [8,9,9,9,0,0,0,1]  \n",
    "\n",
    "## Constraints:\n",
    "- The number of nodes in each linked list is in the range [1, 100].\n",
    "- 0 <= Node.val <= 9\n",
    "- It is guaranteed that the list represents a number that does not have leading zeros.\n",
    "\n",
    "\n",
    "## Solution\n",
    "The idea is to create a third linked list that will track the result of the sum operation and move on two list untill the end of both is reached. On each move, add node to the third linked list. The main flow is in the <em>add_two_numbers</em> function:  "
   ],
   "metadata": {}
  },
  {
   "cell_type": "code",
   "execution_count": 11,
   "source": [
    "from typing import Optional\n",
    "\n",
    "class ListNode:\n",
    "    def __init__(self, val=0, next=None) -> None:\n",
    "        self.val = val\n",
    "        self.next = next\n",
    "\n",
    "def list_to_node(lst: list) -> ListNode:\n",
    "    first: ListNode = None\n",
    "    prev: ListNode =  None\n",
    "    for x in lst:\n",
    "        current = ListNode(x)\n",
    "        if not first:\n",
    "            first = current\n",
    "\n",
    "        if prev:\n",
    "           prev.next = current\n",
    "        \n",
    "        prev = current\n",
    "    return first\n",
    "\n",
    "\n",
    "def list_node_to_str(x: ListNode):\n",
    "    res = ''\n",
    "    while x:\n",
    "        res = str(x.val) + res\n",
    "        x = x.next\n",
    "    return res\n",
    "\n",
    "\n",
    "def add_two_nodes(l1: ListNode, l2: ListNode, prev_value):\n",
    "    node = ListNode(prev_value)\n",
    "    if l1:\n",
    "        node.val += l1.val\n",
    "    if l2:\n",
    "        node.val += l2.val\n",
    "    \n",
    "    shift = 0\n",
    "    if node.val > 9:\n",
    "        node.val -= 10\n",
    "        shift = 1\n",
    "\n",
    "    return node, shift\n",
    "\n",
    "\n",
    "def add_two_numbers(l1: Optional[ListNode], l2: Optional[ListNode]) -> Optional[ListNode]:\n",
    "    first: ListNode = None\n",
    "    prev: ListNode = None\n",
    "\n",
    "    shift = 0\n",
    "\n",
    "    while l1 or l2 or shift:\n",
    "        node, shift = add_two_nodes(l1, l2, shift)\n",
    "\n",
    "        if not first:\n",
    "            first = node\n",
    "        \n",
    "        if prev:\n",
    "            prev.next = node\n",
    "\n",
    "        prev = node\n",
    "\n",
    "        if l1:\n",
    "            l1 = l1.next\n",
    "        \n",
    "        if l2:\n",
    "            l2 = l2.next\n",
    "\n",
    "    return first\n",
    "        \n",
    "\n",
    "print(list_node_to_str(add_two_numbers(list_to_node([2,4,3]), list_to_node([5,6,4]))))\n",
    "print(list_node_to_str(add_two_numbers(list_to_node([0]), list_to_node([0]))))\n",
    "print(list_node_to_str(add_two_numbers(list_to_node([9,9,9,9,9,9,9]), list_to_node([9,9,9,9]))))\n"
   ],
   "outputs": [
    {
     "output_type": "stream",
     "name": "stdout",
     "text": [
      "807\n",
      "0\n",
      "10009998\n"
     ]
    }
   ],
   "metadata": {}
  },
  {
   "cell_type": "markdown",
   "source": [
    "## Analysis\n",
    "The time complexity for the given solution is O(n) when n is the length of the longest input list. The additional space complexity is O(n) as we create additional linked list to track the result\n",
    "\n",
    "From the leetcode output:\n",
    "<em>\n",
    "Success\n",
    "Details \n",
    "Runtime: 60 ms, faster than 96.69% of Python3 online submissions for Add Two Numbers.\n",
    "Memory Usage: 14.3 MB, less than 73.53% of Python3 online submissions for Add Two Numbers.\n",
    "</em>"
   ],
   "metadata": {}
  }
 ],
 "metadata": {
  "orig_nbformat": 4,
  "language_info": {
   "name": "python",
   "version": "3.10.0",
   "mimetype": "text/x-python",
   "codemirror_mode": {
    "name": "ipython",
    "version": 3
   },
   "pygments_lexer": "ipython3",
   "nbconvert_exporter": "python",
   "file_extension": ".py"
  },
  "kernelspec": {
   "name": "python3",
   "display_name": "Python 3.10.0 64-bit"
  },
  "interpreter": {
   "hash": "aee8b7b246df8f9039afb4144a1f6fd8d2ca17a180786b69acc140d282b71a49"
  }
 },
 "nbformat": 4,
 "nbformat_minor": 2
}