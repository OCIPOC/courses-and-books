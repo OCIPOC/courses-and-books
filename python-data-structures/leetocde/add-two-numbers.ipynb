{
 "cells": [
  {
   "cell_type": "markdown",
   "source": [
    "# Add Two Numbers\n",
    "You are given two non-empty linked lists representing two non-negative integers. The digits are stored in reverse order, and each of their nodes contains a single digit. Add the two numbers and return the sum as a linked list.\n",
    "You may assume the two numbers do not contain any leading zero, except the number 0 itself.\n",
    "\n",
    "### Example 1:\n",
    "Input: l1 = [2,4,3], l2 = [5,6,4]  \n",
    "Output: [7,0,8]  \n",
    "Explanation: 342 + 465 = 807  \n",
    "\n",
    "### Example 2:  \n",
    "Input: l1 = [0], l2 = [0]  \n",
    "Output: [0]  \n",
    "\n",
    "### Example 3:\n",
    "Input: l1 = [9,9,9,9,9,9,9], l2 = [9,9,9,9]  \n",
    "Output: [8,9,9,9,0,0,0,1]  \n",
    "\n",
    "## Constraints:\n",
    "- The number of nodes in each linked list is in the range [1, 100].\n",
    "- 0 <= Node.val <= 9\n",
    "- It is guaranteed that the list represents a number that does not have leading zeros."
   ],
   "metadata": {}
  }
 ],
 "metadata": {
  "orig_nbformat": 4,
  "language_info": {
   "name": "python"
  }
 },
 "nbformat": 4,
 "nbformat_minor": 2
}