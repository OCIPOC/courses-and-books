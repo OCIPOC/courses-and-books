{
 "cells": [
  {
   "cell_type": "markdown",
   "source": [
    "# Same Tree\n",
    "Given the roots of two binary trees p and q, write a function to check if they are the same or not.\n",
    "Two binary trees are considered the same if they are structurally identical, and the nodes have the same value.\n",
    "\n",
    "### Example 1:\n",
    "- Input: p = [1,2,3], q = [1,2,3]\n",
    "- Output: true\n",
    "\n",
    "### Example 2:\n",
    "- Input: p = [1,2], q = [1,null,2]\n",
    "- Output: false\n",
    "\n",
    "### Example 3:\n",
    "- Input: p = [1,2,1], q = [1,1,2]\n",
    "- Output: false\n",
    "\n",
    "### Constraints:\n",
    "- The number of nodes in both trees is in the range [0, 100].\n",
    "- -104 <= Node.val <= 104"
   ],
   "metadata": {}
  }
 ],
 "metadata": {
  "orig_nbformat": 4,
  "language_info": {
   "name": "python"
  }
 },
 "nbformat": 4,
 "nbformat_minor": 2
}