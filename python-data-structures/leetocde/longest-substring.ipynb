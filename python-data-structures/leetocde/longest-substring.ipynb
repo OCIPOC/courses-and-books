{
 "cells": [
  {
   "cell_type": "markdown",
   "source": [
    "# Longest Substring Without Repeating Characters\n",
    "Given a string s, find the length of the longest substring without repeating characters.\n",
    "\n",
    "### Example 1:\n",
    "Input: s = \"abcabcbb\"  \n",
    "Output: 3  \n",
    "Explanation: The answer is \"abc\", with the length of 3.  \n",
    "\n",
    "### Example 2:\n",
    "Input: s = \"bbbbb\"  \n",
    "Output: 1  \n",
    "Explanation: The answer is \"b\", with the length of 1.  \n",
    "\n",
    "### Example 3:\n",
    "Input: s = \"pwwkew\"  \n",
    "Output: 3  \n",
    "Explanation: The answer is \"wke\", with the length of 3.  \n",
    "Notice that the answer must be a substring, \"pwke\" is a subsequence and not a substring.  \n",
    "\n",
    "### Example 4:\n",
    "Input: s = \"\"\n",
    "Output: 0\n",
    "\n",
    "### Constraints:\n",
    "- 0 <= s.length <= 5 * 104\n",
    "- s consists of English letters, digits, symbols and spaces.\n",
    "\n",
    "## Solution"
   ],
   "metadata": {}
  },
  {
   "cell_type": "code",
   "execution_count": 28,
   "source": [
    "def get_unique_prefix(s) -> int:\n",
    "    chars = {}\n",
    "    for i, c in enumerate(s):\n",
    "        if c not in chars:\n",
    "            chars[c] = i\n",
    "        else:\n",
    "            return len(chars), chars[c] + 1\n",
    "    return len(s), len(s)\n",
    "\n",
    "\n",
    "def length_of_longest_substring(s: str) -> int:\n",
    "    if not s:\n",
    "        return 0\n",
    "    else:\n",
    "        l, i = get_unique_prefix(s)\n",
    "        return max(l, length_of_longest_substring(s[i:]))\n",
    "\n",
    "\n",
    "assert length_of_longest_substring('abcabcbb') == 3\n",
    "assert length_of_longest_substring('bbbbb') == 1\n",
    "assert length_of_longest_substring('pwwkew') == 3\n",
    "assert length_of_longest_substring('') == 0\n"
   ],
   "outputs": [],
   "metadata": {}
  },
  {
   "cell_type": "markdown",
   "source": [
    "## Analysis\n",
    "We scan the input string only once, so the time complexity is O(n). We track all non unique characters in hashmap and thus the Space Complexity is O(n) "
   ],
   "metadata": {}
  }
 ],
 "metadata": {
  "orig_nbformat": 4,
  "language_info": {
   "name": "python",
   "version": "3.10.0",
   "mimetype": "text/x-python",
   "codemirror_mode": {
    "name": "ipython",
    "version": 3
   },
   "pygments_lexer": "ipython3",
   "nbconvert_exporter": "python",
   "file_extension": ".py"
  },
  "kernelspec": {
   "name": "python3",
   "display_name": "Python 3.10.0 64-bit"
  },
  "interpreter": {
   "hash": "aee8b7b246df8f9039afb4144a1f6fd8d2ca17a180786b69acc140d282b71a49"
  }
 },
 "nbformat": 4,
 "nbformat_minor": 2
}