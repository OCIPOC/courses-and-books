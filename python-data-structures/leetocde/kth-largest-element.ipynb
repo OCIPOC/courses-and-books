{
 "cells": [
  {
   "cell_type": "markdown",
   "source": [
    "# Kth Largest Element in an Array\n",
    "Given an integer array nums and an integer k, return the kth largest element in the array.\n",
    "Note that it is the kth largest element in the sorted order, not the kth distinct element.\n",
    "\n",
    "### Example 1:\n",
    "- Input: nums = [3,2,1,5,6,4], k = 2\n",
    "- Output: 5\n",
    "\n",
    "### Example 2:\n",
    "- Input: nums = [3,2,3,1,2,4,5,5,6], k = 4\n",
    "- Output: 4\n",
    "\n",
    "### Constraints:\n",
    "1 <= k <= nums.length <= 104\n",
    "-104 <= nums[i] <= 104\n",
    "\n",
    "## Solution \n",
    "\n"
   ],
   "metadata": {}
  }
 ],
 "metadata": {
  "orig_nbformat": 4,
  "language_info": {
   "name": "python"
  }
 },
 "nbformat": 4,
 "nbformat_minor": 2
}