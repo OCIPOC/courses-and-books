{
 "cells": [
  {
   "cell_type": "markdown",
   "source": [
    "# Group Anagrams\n",
    "Given an array of strings strs, group the anagrams together. You can return the answer in any order.\n",
    "An Anagram is a word or phrase formed by rearranging the letters of a different word or phrase, typically using all the original letters exactly once.\n",
    "\n",
    "### Example 1:\n",
    "= Input: strs = [\"eat\",\"tea\",\"tan\",\"ate\",\"nat\",\"bat\"]\n",
    "- Output: [[\"bat\"],[\"nat\",\"tan\"],[\"ate\",\"eat\",\"tea\"]]\n",
    "\n",
    "### Example 2:\n",
    "- Input: strs = [\"\"]\n",
    "- Output: [[\"\"]]\n",
    "\n",
    "### Example 3:\n",
    "- Input: strs = [\"a\"]\n",
    "- Output: [[\"a\"]]\n",
    "\n",
    "\n",
    "### Constraints:\n",
    "- 1 <= strs.length <= 104\n",
    "- 0 <= strs[i].length <= 100\n",
    "- strs[i] consists of lowercase English letters."
   ],
   "metadata": {}
  }
 ],
 "metadata": {
  "orig_nbformat": 4,
  "language_info": {
   "name": "python"
  }
 },
 "nbformat": 4,
 "nbformat_minor": 2
}