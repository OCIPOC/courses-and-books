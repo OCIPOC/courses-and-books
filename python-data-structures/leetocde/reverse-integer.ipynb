{
 "cells": [
  {
   "cell_type": "markdown",
   "source": [
    "# Reverse Integer\n",
    "Given a signed 32-bit integer x, return x with its digits reversed. If reversing x causes the value to go outside the signed 32-bit integer range [-2<sup>31</sup>, 2<sup>31</sup> - 1], then return 0.\n",
    "- Assume the environment does not allow you to store 64-bit integers (signed or unsigned).\n",
    "\n",
    "### Example 1:\n",
    "Input: x = 123    \n",
    "Output: 321  \n",
    "\n",
    "### Example 2:  \n",
    "Input: x = -123  \n",
    "Output: -321  \n",
    "\n",
    "### Example 3:\n",
    "Input: x = 120  \n",
    "Output: 21  \n",
    "\n",
    "### Example 4:\n",
    "Input: x = 0  \n",
    "Output: 0  \n",
    "\n",
    "## Solution\n",
    "- Approach: \n",
    "    - Define min and max values\n",
    "    - Assign 0 to the result\n",
    "    - Divide the input integer by 10 and take the   \n"
   ],
   "metadata": {}
  }
 ],
 "metadata": {
  "orig_nbformat": 4,
  "language_info": {
   "name": "python"
  }
 },
 "nbformat": 4,
 "nbformat_minor": 2
}