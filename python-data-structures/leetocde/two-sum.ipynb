{
 "cells": [
  {
   "cell_type": "markdown",
   "source": [
    "# Two Sum\n",
    "Given an array of integers nums and an integer target, return indices of the two numbers such that they add up to target.\n",
    "You may assume that each input would have exactly one solution, and you may not use the same element twice. You can return the answer in any order.\n",
    "\n",
    "### Example 1:  \n",
    "Input: nums = [2,7,11,15], target = 9  \n",
    "Output: [0,1]  \n",
    "Output: Because nums[0] + nums[1] == 9, we return [0, 1].  \n",
    "\n",
    "### Example 2:  \n",
    "Input: nums = [3,2,4], target = 6  \n",
    "Output: [1,2]  \n",
    "\n",
    "### Example 3:  \n",
    "Input: nums = [3,3], target = 6  \n",
    "Output: [0,1]  \n"
   ],
   "metadata": {}
  },
  {
   "cell_type": "markdown",
   "source": [
    "## Solution 1\n",
    "The first solution is a brute force solution. Iterate on possible pairs in the list, sum and if the result equals to the target, return indecies"
   ],
   "metadata": {}
  },
  {
   "cell_type": "code",
   "execution_count": 28,
   "source": [
    "from typing import List\n",
    "\n",
    "def two_sum(nums: List[int], target: int) -> List[int]:\n",
    "    for i in range(len(nums)):\n",
    "        for j in range(i + 1, len(nums)):\n",
    "            if nums[i] + nums[j] == target:\n",
    "                return [i, j]\n",
    "    raise Exception('Target cannot be constructed') \n",
    "\n",
    "\n",
    "assert two_sum([2,7,11,15], 9) == [0, 1]\n",
    "assert two_sum([3,2,4], 6) == [1, 2]\n",
    "assert two_sum([3, 3], 6) == [0, 1]"
   ],
   "outputs": [
    {
     "output_type": "stream",
     "name": "stdout",
     "text": [
      "[0, 1]\n",
      "[1, 2]\n",
      "[0, 1]\n"
     ]
    }
   ],
   "metadata": {}
  },
  {
   "cell_type": "markdown",
   "source": [
    "## Solution 2\n",
    "The previous solution works and has the Time Complexity of O(n^2). We can improve it by creating a HashMap for the fast lookup and.\n",
    "In this solution we will create a dictionary, where input list values will serve as keys and indexes will serve as values.    \n"
   ],
   "metadata": {}
  },
  {
   "cell_type": "code",
   "execution_count": 20,
   "source": [
    "from typing import List\n",
    "\n",
    "def two_sum(nums: List[int], target: int) -> List[int]:\n",
    "    lookup = {}\n",
    "    for i, v in enumerate(nums):\n",
    "        lookup[v] = lookup.get(v, []) + [i]\n",
    "        \n",
    "    for k1, v1 in lookup.items():\n",
    "        k2 = target - k1\n",
    "        if k2 in lookup:\n",
    "            if k1 == k2 and len(v1) == 2:\n",
    "                return v1\n",
    "            elif k1 != k2:\n",
    "                return [lookup[k1][0], lookup[k2][0]]\n",
    "\n",
    "assert two_sum([2,7,11,15], 9) == [0, 1]\n",
    "assert two_sum([3,2,4], 6) == [1, 2]\n",
    "assert two_sum([3, 3], 6) == [0, 1]"
   ],
   "outputs": [],
   "metadata": {}
  },
  {
   "cell_type": "markdown",
   "source": [
    "## Analysis\n",
    "In Solution 2, we iterate the input list exactly twice. For each item in the second iteration we perform one lookup operation O(1). Totally we achived Time Complexity of O(n) and additional Space Complexity O(n)\n",
    "\n",
    "## LeetCode Output\n",
    "- Success\n",
    "- Runtime: 60 ms, faster than 78.83% of Python3 online submissions for Two Sum.\n",
    "- Memory Usage: 16.2 MB, less than 8.89% of Python3 online submissions for Two Sum.\n"
   ],
   "metadata": {}
  }
 ],
 "metadata": {
  "orig_nbformat": 4,
  "language_info": {
   "name": "python",
   "version": "3.10.0",
   "mimetype": "text/x-python",
   "codemirror_mode": {
    "name": "ipython",
    "version": 3
   },
   "pygments_lexer": "ipython3",
   "nbconvert_exporter": "python",
   "file_extension": ".py"
  },
  "kernelspec": {
   "name": "python3",
   "display_name": "Python 3.10.0 64-bit"
  },
  "interpreter": {
   "hash": "aee8b7b246df8f9039afb4144a1f6fd8d2ca17a180786b69acc140d282b71a49"
  }
 },
 "nbformat": 4,
 "nbformat_minor": 2
}