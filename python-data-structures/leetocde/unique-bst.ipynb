{
 "cells": [
  {
   "cell_type": "markdown",
   "source": [
    "# Unique Binary Search Trees\n",
    "Given an integer n, return the number of structurally unique BST's (binary search trees) which has exactly n nodes of unique values from 1 to n.\n",
    "\n",
    "### Example 1\n",
    "- Input: n=3\n",
    "- Output:\n",
    "<table width=\"256px\">\n",
    "  <tr>\n",
    "    <td><img src=\"../images/unique-bst.png\" /></td>\n",
    "  </tr>\n",
    "</table>\n",
    "\n",
    "### Example 2\n",
    "- Input: n = 1\n",
    "- Output: 1\n",
    "\n",
    "\n",
    "## Solution\n",
    "\n",
    "\n",
    "\n"
   ],
   "metadata": {}
  }
 ],
 "metadata": {
  "orig_nbformat": 4,
  "language_info": {
   "name": "python"
  }
 },
 "nbformat": 4,
 "nbformat_minor": 2
}