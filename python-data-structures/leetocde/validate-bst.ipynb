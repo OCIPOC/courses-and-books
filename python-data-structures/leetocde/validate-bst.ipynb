{
 "cells": [
  {
   "cell_type": "markdown",
   "source": [
    "# Validate Binary Search Tree\n",
    "\n",
    "Given the root of a binary tree, determine if it is a valid binary search tree (BST).\n",
    "A valid BST is defined as follows:\n",
    "- The left subtree of a node contains only nodes with keys less than the node's key.\n",
    "- The right subtree of a node contains only nodes with keys greater than the node's key.\n",
    "- Both the left and right subtrees must also be binary search trees.\n",
    "\n",
    "### Example 1\n",
    "- Input: root = [2,1,3]\n",
    "- Output: true\n",
    "<table width=\"256px\">\n",
    "  <tr>\n",
    "    <td><img src=\"../images/recover-bst-1.png\" /></td>\n",
    "  </tr>\n",
    "</table>\n",
    "\n",
    "\n",
    "### Example 2:\n",
    "- Input: root = [5,1,4,null,null,3,6]\n",
    "- Output: false\n",
    "- Explanation: The root node's value is 5 but its right child's value is 4.\n",
    "<table width=\"256px\">\n",
    "  <tr>\n",
    "    <td><img src=\"../images/recover-bst-1.png\" /></td>\n",
    "  </tr>\n",
    "</table>\n",
    "\n",
    "### Constraints:\n",
    "The number of nodes in the tree is in the range [1, 104].\n",
    "-231 <= Node.val <= 231 - 1\n",
    "\n",
    "## Solution\n",
    "\n",
    "### Intuition\n",
    "\n",
    "### Implementation"
   ],
   "metadata": {}
  },
  {
   "cell_type": "code",
   "execution_count": 1,
   "source": [
    "class TreeNode:\n",
    "     def __init__(self, val=0, left=None, right=None):\n",
    "         self.val = val\n",
    "         self.left = left\n",
    "         self.right = right\n",
    "\n",
    "\n",
    "def to_list(root: TreeNode) -> list:\n",
    "    if not root:\n",
    "        return []\n",
    "    else:\n",
    "        return to_list(root.left) + [root.val] + to_list(root.right)\n",
    "    \n",
    "\n",
    "def is_valid_bst(root: TreeNode) -> bool:\n",
    "    lst = to_list(root)\n",
    "    for i in range(len(lst)-1):\n",
    "        if lst[i] >= lst[i+1]:\n",
    "            return False\n",
    "    return True\n",
    "\n",
    "\n",
    "assert is_valid_bst([[5, 1, 4, None, None, 3, 6]])"
   ],
   "outputs": [],
   "metadata": {}
  }
 ],
 "metadata": {
  "orig_nbformat": 4,
  "language_info": {
   "name": "python",
   "version": "3.10.0",
   "mimetype": "text/x-python",
   "codemirror_mode": {
    "name": "ipython",
    "version": 3
   },
   "pygments_lexer": "ipython3",
   "nbconvert_exporter": "python",
   "file_extension": ".py"
  },
  "kernelspec": {
   "name": "python3",
   "display_name": "Python 3.10.0 64-bit"
  },
  "interpreter": {
   "hash": "aee8b7b246df8f9039afb4144a1f6fd8d2ca17a180786b69acc140d282b71a49"
  }
 },
 "nbformat": 4,
 "nbformat_minor": 2
}