{
 "cells": [
  {
   "cell_type": "markdown",
   "source": [
    "# Recover Binary Search Tree\n",
    "You are given the root of a binary search tree (BST), where the values of exactly two nodes of the tree were swapped by mistake. Recover the tree without changing its structure.\n",
    "\n",
    "### Example 1:\n",
    "- Input: root = [1,3,null,null,2]\n",
    "- Output: [3,1,null,null,2]\n",
    "- Explanation: 3 cannot be a left child of 1 because 3 > 1. Swapping 1 and 3 makes the BST valid.\n",
    "<table width=\"256px\">\n",
    "  <tr>\n",
    "    <td><img src=\"../images/recover-bst-1.png\" /></td>\n",
    "  </tr>\n",
    "</table>\n",
    "\n",
    "### Example 2:\n",
    "- Input: root = [3,1,4,null,null,2]\n",
    "- Output: [2,1,4,null,null,3]\n",
    "- Explanation: 2 cannot be in the right subtree of 3 because 2 < 3. Swapping 2 and 3 makes the BST valid.\n",
    "<table width=\"256px\">\n",
    "  <tr>\n",
    "    <td><img src=\"../images/recover-bst-2.png\" /></td>\n",
    "  </tr>\n",
    "</table>\n",
    "\n",
    "### Constraints:\n",
    "- The number of nodes in the tree is in the range [2, 1000].\n",
    "- -2^31 <= Node.val <= 2^31 - 1\n",
    "\n",
    "## Solution\n",
    "\n",
    "### Intuition \n",
    "The idea is to 'serialize' the tree into array by using inorder traversal, then sort the array and after that restore the tree from array. "
   ],
   "metadata": {}
  },
  {
   "cell_type": "code",
   "execution_count": 4,
   "source": [
    "class TreeNode:\n",
    "    def __init__(self, val=0, left=None, right=None):\n",
    "        self.val = val\n",
    "        self.left = left\n",
    "        self.right = right\n",
    "\n",
    "\n",
    "def from_list(tree: list, root: TreeNode=None):\n",
    "    if not tree:\n",
    "        return None\n",
    "    elif not root:\n",
    "        root = TreeNode(tree.pop(0))\n",
    "        return from_list(tree, root)\n",
    "    else:\n",
    "        root.left = TreeNode(tree.pop(0))\n",
    "        root.right = TreeNode(tree.pop(0))\n",
    "        from_list(tree, root.left)\n",
    "        from_list(tree, root.right)\n",
    "    return root\n",
    "\n",
    "\n",
    "def inorder(node: TreeNode) -> list:\n",
    "    if not node:\n",
    "        return [None]\n",
    "    else:\n",
    "        return inorder(node.left) + [node.val] + inorder(node.right)\n",
    "        \n",
    "\n",
    "def inorder_restore(tree: list) -> TreeNode:\n",
    "    if not tree:\n",
    "        return None\n",
    "    else:\n",
    "        left = inorder_restore(tree)\n",
    "        node = TreeNode()\n",
    "\n",
    "\n",
    "def recover_tree(root: TreeNode) -> None:\n",
    "    lst = inorder(root)\n",
    "    print(lst)\n",
    "    pass\n",
    "\n",
    "\n",
    "tree_1 = from_list([1, 3, None, None, 2])\n",
    "tree_2 = from_list([3, 1, 4, None, None, 2])\n",
    "\n",
    "\n",
    "recover_tree(tree_1)"
   ],
   "outputs": [
    {
     "output_type": "error",
     "ename": "NameError",
     "evalue": "name 'null' is not defined",
     "traceback": [
      "\u001b[0;31m---------------------------------------------------------------------------\u001b[0m",
      "\u001b[0;31mNameError\u001b[0m                                 Traceback (most recent call last)",
      "\u001b[0;32m/var/folders/br/hzvrvh5s3md8fzgyk_xvdh1w0000gq/T/ipykernel_53753/1397328434.py\u001b[0m in \u001b[0;36m<module>\u001b[0;34m\u001b[0m\n\u001b[1;32m     41\u001b[0m \u001b[0;34m\u001b[0m\u001b[0m\n\u001b[1;32m     42\u001b[0m \u001b[0;34m\u001b[0m\u001b[0m\n\u001b[0;32m---> 43\u001b[0;31m \u001b[0mtree_1\u001b[0m \u001b[0;34m=\u001b[0m \u001b[0mfrom_list\u001b[0m\u001b[0;34m(\u001b[0m\u001b[0;34m[\u001b[0m\u001b[0;36m1\u001b[0m\u001b[0;34m,\u001b[0m\u001b[0;36m3\u001b[0m\u001b[0;34m,\u001b[0m\u001b[0mnull\u001b[0m\u001b[0;34m,\u001b[0m\u001b[0mnull\u001b[0m\u001b[0;34m,\u001b[0m\u001b[0;36m2\u001b[0m\u001b[0;34m]\u001b[0m\u001b[0;34m)\u001b[0m\u001b[0;34m\u001b[0m\u001b[0;34m\u001b[0m\u001b[0m\n\u001b[0m\u001b[1;32m     44\u001b[0m \u001b[0mtree_2\u001b[0m \u001b[0;34m=\u001b[0m \u001b[0mfrom_list\u001b[0m\u001b[0;34m(\u001b[0m\u001b[0;34m[\u001b[0m\u001b[0;36m3\u001b[0m\u001b[0;34m,\u001b[0m\u001b[0;36m1\u001b[0m\u001b[0;34m,\u001b[0m\u001b[0;36m4\u001b[0m\u001b[0;34m,\u001b[0m\u001b[0mnull\u001b[0m\u001b[0;34m,\u001b[0m\u001b[0mnull\u001b[0m\u001b[0;34m,\u001b[0m\u001b[0;36m2\u001b[0m\u001b[0;34m]\u001b[0m\u001b[0;34m)\u001b[0m\u001b[0;34m\u001b[0m\u001b[0;34m\u001b[0m\u001b[0m\n\u001b[1;32m     45\u001b[0m \u001b[0;34m\u001b[0m\u001b[0m\n",
      "\u001b[0;31mNameError\u001b[0m: name 'null' is not defined"
     ]
    }
   ],
   "metadata": {}
  }
 ],
 "metadata": {
  "orig_nbformat": 4,
  "language_info": {
   "name": "python",
   "version": "3.10.0",
   "mimetype": "text/x-python",
   "codemirror_mode": {
    "name": "ipython",
    "version": 3
   },
   "pygments_lexer": "ipython3",
   "nbconvert_exporter": "python",
   "file_extension": ".py"
  },
  "kernelspec": {
   "name": "python3",
   "display_name": "Python 3.10.0 64-bit"
  },
  "interpreter": {
   "hash": "aee8b7b246df8f9039afb4144a1f6fd8d2ca17a180786b69acc140d282b71a49"
  }
 },
 "nbformat": 4,
 "nbformat_minor": 2
}