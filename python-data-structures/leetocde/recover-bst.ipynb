{
 "cells": [
  {
   "cell_type": "markdown",
   "source": [
    "# Recover Binary Search Tree\n",
    "You are given the root of a binary search tree (BST), where the values of exactly two nodes of the tree were swapped by mistake. Recover the tree without changing its structure.\n",
    "\n",
    "### Example 1:\n",
    "- Input: root = [1,3,null,null,2]\n",
    "- Output: [3,1,null,null,2]\n",
    "- Explanation: 3 cannot be a left child of 1 because 3 > 1. Swapping 1 and 3 makes the BST valid.\n",
    "![](./images/recover-bst-1.png)\n",
    "\n",
    "### Example 2:\n",
    "- Input: root = [3,1,4,null,null,2]\n",
    "- Output: [2,1,4,null,null,3]\n",
    "- Explanation: 2 cannot be in the right subtree of 3 because 2 < 3. Swapping 2 and 3 makes the BST valid.\n",
    "![](./images/recover-bst-1.png)\n",
    "\n",
    "### Constraints:\n",
    "- The number of nodes in the tree is in the range [2, 1000].\n",
    "- -2^31 <= Node.val <= 2^31 - 1"
   ],
   "metadata": {}
  }
 ],
 "metadata": {
  "orig_nbformat": 4,
  "language_info": {
   "name": "python"
  }
 },
 "nbformat": 4,
 "nbformat_minor": 2
}