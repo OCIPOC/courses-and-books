{
 "cells": [
  {
   "cell_type": "markdown",
   "source": [
    "# Recover Binary Search Tree\n",
    "You are given the root of a binary search tree (BST), where the values of exactly two nodes of the tree were swapped by mistake. Recover the tree without changing its structure.\n",
    "\n",
    "### Example 1:\n",
    "- Input: root = [1,3,null,null,2]\n",
    "- Output: [3,1,null,null,2]\n",
    "- Explanation: 3 cannot be a left child of 1 because 3 > 1. Swapping 1 and 3 makes the BST valid.\n",
    "<table width=\"256px\">\n",
    "  <tr>\n",
    "    <td><img src=\"../images/recover-bst-1.png\" /></td>\n",
    "  </tr>\n",
    "</table>\n",
    "\n",
    "### Example 2:\n",
    "- Input: root = [3,1,4,null,null,2]\n",
    "- Output: [2,1,4,null,null,3]\n",
    "- Explanation: 2 cannot be in the right subtree of 3 because 2 < 3. Swapping 2 and 3 makes the BST valid.\n",
    "<table width=\"256px\">\n",
    "  <tr>\n",
    "    <td><img src=\"../images/recover-bst-2.png\" /></td>\n",
    "  </tr>\n",
    "</table>\n",
    "\n",
    "### Constraints:\n",
    "- The number of nodes in the tree is in the range [2, 1000].\n",
    "- -2^31 <= Node.val <= 2^31 - 1\n",
    "\n",
    "## Solution\n",
    "\n",
    "### Intuition \n",
    "The idea is to 'serialize' the tree into array by using inorder traversal, then sort the array and after that restore the tree from array. "
   ],
   "metadata": {}
  },
  {
   "cell_type": "code",
   "execution_count": 1,
   "source": [
    "class TreeNode:\n",
    "    def __init__(self, val=0, left=None, right=None):\n",
    "        self.val = val\n",
    "        self.left = left\n",
    "        self.right = right\n",
    "\n",
    "\n",
    "def inorder(node: TreeNode) -> list:\n",
    "    if not node:\n",
    "        return [None]\n",
    "    else:\n",
    "        return inorder(node.left) + [node.val] + inorder(node.right)\n",
    "        \n",
    "\n",
    "def inorder_restore(tree: list) -> TreeNode:\n",
    "    if not tree:\n",
    "        return None\n",
    "    else:\n",
    "        left = inorder_restore(tree)\n",
    "        node = TreeNode()\n",
    "\n",
    "\n",
    "\n",
    "def recoverTree(self, root: TreeNode) -> None:\n",
    "    pass\n"
   ],
   "outputs": [
    {
     "output_type": "error",
     "ename": "IndentationError",
     "evalue": "expected an indented block after 'else' statement on line 11 (3809984131.py, line 16)",
     "traceback": [
      "\u001b[0;36m  File \u001b[0;32m\"/var/folders/br/hzvrvh5s3md8fzgyk_xvdh1w0000gq/T/ipykernel_53753/3809984131.py\"\u001b[0;36m, line \u001b[0;32m16\u001b[0m\n\u001b[0;31m    def recoverTree(self, root: TreeNode) -> None:\u001b[0m\n\u001b[0m                                                  ^\u001b[0m\n\u001b[0;31mIndentationError\u001b[0m\u001b[0;31m:\u001b[0m expected an indented block after 'else' statement on line 11\n"
     ]
    }
   ],
   "metadata": {}
  }
 ],
 "metadata": {
  "orig_nbformat": 4,
  "language_info": {
   "name": "python",
   "version": "3.10.0",
   "mimetype": "text/x-python",
   "codemirror_mode": {
    "name": "ipython",
    "version": 3
   },
   "pygments_lexer": "ipython3",
   "nbconvert_exporter": "python",
   "file_extension": ".py"
  },
  "kernelspec": {
   "name": "python3",
   "display_name": "Python 3.10.0 64-bit"
  },
  "interpreter": {
   "hash": "aee8b7b246df8f9039afb4144a1f6fd8d2ca17a180786b69acc140d282b71a49"
  }
 },
 "nbformat": 4,
 "nbformat_minor": 2
}