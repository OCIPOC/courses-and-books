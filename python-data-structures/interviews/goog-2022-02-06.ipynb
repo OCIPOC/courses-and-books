{
 "cells": [
  {
   "cell_type": "markdown",
   "source": [
    "#  GOOG 2022-02-06 \n",
    "\n",
    "### Count of Smaller Numbers After self\n",
    "You are given an integer array nums and you have to return a new counts array. The counts array has the property where counts[i] is the number of smaller elements to the right of nums[i].\n",
    "\n",
    "### Example 1:\n",
    "- Input: nums = [5,2,6,1]\n",
    "- Output: [2,1,1,0]\n",
    "- Explanation:\n",
    "    - To the right of 5 there are 2 smaller elements (2 and 1).\n",
    "    - To the right of 2 there is only 1 smaller element (1).\n",
    "    - To the right of 6 there is 1 smaller element (1).\n",
    "    - To the right of 1 there is 0 smaller element.\n",
    "\n",
    "### Example 2:\n",
    "- Input: nums = [-1]\n",
    "- Output: [0]\n",
    "\n",
    "### Example 3:\n",
    "- Input: nums = [-1,-1]\n",
    "- Output: [0,0]\n",
    "\n",
    "\n",
    "### ! The problem was given in a diffrent way\n",
    "Consider web requests are comming in a form of req_id -> duration. For eac req_id return the number of previous requests that are shorter from"
   ],
   "metadata": {}
  }
 ],
 "metadata": {
  "orig_nbformat": 4,
  "language_info": {
   "name": "python"
  }
 },
 "nbformat": 4,
 "nbformat_minor": 2
}