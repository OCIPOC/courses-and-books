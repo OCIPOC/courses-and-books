{
 "cells": [
  {
   "cell_type": "markdown",
   "source": [
    "# Longest Substring Without Repeating Characters\n",
    "Given a string s, find the length of the longest substring without repeating characters."
   ],
   "metadata": {}
  },
  {
   "cell_type": "code",
   "execution_count": 24,
   "source": [
    "'''\n",
    "Example 1:\n",
    "    \"abcabcbb\" -> 3 \n",
    "    Explanation: The answer is \"abc\", with the length of 3.\n",
    "Example 2:\n",
    "    \"bbbbb\" -> 1\n",
    "    Explanation: The answer is \"b\", with the length of 1.\n",
    "Example 3:\n",
    "    \"pwwkew\" -> 3\n",
    "    Explanation: The answer is \"wke\", with the length of 3.\n",
    "\n",
    "IDEA 1:\n",
    "    Try all possible substrings and return the length of the longest without repeating chars\n",
    "IDEA 2:\n",
    "    Keep track of left and right pointer. When the next char is repeating move left untill removing \n",
    "    the repeating char \n",
    "'''\n",
    "\n",
    "def length_of_longest_substring(s: str) -> int:\n",
    "    visited, left, right = set(), 0, 0\n",
    "    max_len = 0\n",
    "\n",
    "    def move_left(left, s, c, visited):\n",
    "        while s[left] != c:\n",
    "            if s[left] in visited:\n",
    "                visited.remove(s[left])\n",
    "            left += 1\n",
    "        return left + 1\n",
    "    \n",
    "    while right < len(s):\n",
    "        if s[right] in visited:\n",
    "            left = move_left(left, s, s[right], visited)\n",
    "        else:    \n",
    "            visited.add(s[right])\n",
    "            right += 1\n",
    "\n",
    "        if max_len < right - left:\n",
    "            max_len = right - left\n",
    "    \n",
    "    return max_len         \n",
    "\n",
    "assert length_of_longest_substring('abba') == 2\n",
    "assert length_of_longest_substring('bbbbb') == 1\n",
    "assert length_of_longest_substring('abcabcbb') == 3\n",
    "assert length_of_longest_substring('tmmzuxt') == 5  "
   ],
   "outputs": [
    {
     "output_type": "error",
     "ename": "AssertionError",
     "evalue": "",
     "traceback": [
      "\u001b[0;31m---------------------------------------------------------------------------\u001b[0m",
      "\u001b[0;31mAssertionError\u001b[0m                            Traceback (most recent call last)",
      "\u001b[0;32m/var/folders/br/hzvrvh5s3md8fzgyk_xvdh1w0000gq/T/ipykernel_59673/1284407394.py\u001b[0m in \u001b[0;36m<module>\u001b[0;34m\u001b[0m\n\u001b[1;32m     42\u001b[0m \u001b[0;32massert\u001b[0m \u001b[0mlength_of_longest_substring\u001b[0m\u001b[0;34m(\u001b[0m\u001b[0;34m'bbbbb'\u001b[0m\u001b[0;34m)\u001b[0m \u001b[0;34m==\u001b[0m \u001b[0;36m1\u001b[0m\u001b[0;34m\u001b[0m\u001b[0;34m\u001b[0m\u001b[0m\n\u001b[1;32m     43\u001b[0m \u001b[0;32massert\u001b[0m \u001b[0mlength_of_longest_substring\u001b[0m\u001b[0;34m(\u001b[0m\u001b[0;34m'abcabcbb'\u001b[0m\u001b[0;34m)\u001b[0m \u001b[0;34m==\u001b[0m \u001b[0;36m3\u001b[0m\u001b[0;34m\u001b[0m\u001b[0;34m\u001b[0m\u001b[0m\n\u001b[0;32m---> 44\u001b[0;31m \u001b[0;32massert\u001b[0m \u001b[0mlength_of_longest_substring\u001b[0m\u001b[0;34m(\u001b[0m\u001b[0;34m'tmmzuxt'\u001b[0m\u001b[0;34m)\u001b[0m \u001b[0;34m==\u001b[0m \u001b[0;36m5\u001b[0m\u001b[0;34m\u001b[0m\u001b[0;34m\u001b[0m\u001b[0m\n\u001b[0m",
      "\u001b[0;31mAssertionError\u001b[0m: "
     ]
    }
   ],
   "metadata": {}
  }
 ],
 "metadata": {
  "orig_nbformat": 4,
  "language_info": {
   "name": "python",
   "version": "3.10.0",
   "mimetype": "text/x-python",
   "codemirror_mode": {
    "name": "ipython",
    "version": 3
   },
   "pygments_lexer": "ipython3",
   "nbconvert_exporter": "python",
   "file_extension": ".py"
  },
  "kernelspec": {
   "name": "python3",
   "display_name": "Python 3.10.0 64-bit"
  },
  "interpreter": {
   "hash": "aee8b7b246df8f9039afb4144a1f6fd8d2ca17a180786b69acc140d282b71a49"
  }
 },
 "nbformat": 4,
 "nbformat_minor": 2
}